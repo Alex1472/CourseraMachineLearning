{
 "cells": [
  {
   "cell_type": "code",
   "execution_count": 33,
   "metadata": {},
   "outputs": [
    {
     "name": "stdout",
     "output_type": "stream",
     "text": [
      "[0.9527544408738466, 0.8644738145642124, 0.8951715163278082, 0.7770887149698589, 0.9402385695332803, 0.7327387580875756, 0.9258750683338899, 0.8842724875284311, 0.9055088817476932, 0.8328165362273942, 0.8804771390665607, 0.8396432548525454, 0.8703592552895671, 0.8740118423302576, 0.9442721787424647, 0.8406361854220809, 0.956644501523794, 0.9442721787424647, 0.8885443574849294, 0.8427572744917122, 0.8250364469440588]\n"
     ]
    }
   ],
   "source": [
    "import re\n",
    "import numpy as np\n",
    "import scipy.spatial.distance as distance\n",
    "\n",
    "input = open(\"sentences.txt\", \"r\")\n",
    "sentences = [line.strip().lower() for line in input]\n",
    "\n",
    "words = []\n",
    "for sentence in sentences:\n",
    "    for word in re.split('[^a-z]', sentence):\n",
    "        if word != \"\":\n",
    "            words.append(word)\n",
    "            \n",
    "d = {}\n",
    "for word in words:\n",
    "    if word not in d:\n",
    "        d[word] = len(d)\n",
    "\n",
    "matr = np.zeros((len(sentences), len(d)))\n",
    "\n",
    "for i in range(len(sentences)):\n",
    "    for word in re.split('[^a-z]', sentences[i]):\n",
    "        if word != \"\":\n",
    "            matr[i][d[word]] += 1\n",
    "\n",
    "result = [distance.cosine(matr[0,:], matr[i,:]) for i in range(1, len(sentences))]\n",
    "\n",
    "print result\n",
    "\n",
    "\n",
    "\n",
    "        "
   ]
  }
 ],
 "metadata": {
  "kernelspec": {
   "display_name": "Python 2",
   "language": "python",
   "name": "python2"
  },
  "language_info": {
   "codemirror_mode": {
    "name": "ipython",
    "version": 2
   },
   "file_extension": ".py",
   "mimetype": "text/x-python",
   "name": "python",
   "nbconvert_exporter": "python",
   "pygments_lexer": "ipython2",
   "version": "2.7.15"
  }
 },
 "nbformat": 4,
 "nbformat_minor": 2
}
